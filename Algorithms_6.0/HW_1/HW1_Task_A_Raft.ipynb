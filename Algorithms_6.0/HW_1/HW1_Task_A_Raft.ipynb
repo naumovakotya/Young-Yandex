{
 "cells": [
  {
   "attachments": {},
   "cell_type": "markdown",
   "id": "7550e976",
   "metadata": {},
   "source": [
    "<img src=\"https://static.tildacdn.com/tild3036-3433-4162-b833-343265656265/Vector.svg\" alt=\"YoungYandex\" style=\"float:\"/>\n",
    "\n",
    "<img src=\"https://yastatic.net/q/logoaas/v2/%D0%AF%D0%BD%D0%B4%D0%B5%D0%BA%D1%81%E2%80%AF.svg?size=25&color=000&first=white&circle=red\" alt=\"Яндекс\" width=\"50\" style=\"float: left; margin-right: 1px;\"/>\n",
    "  <img src=\"https://avatars.mds.yandex.net/get-lpc/10116223/e2e14ea9-e136-4539-8427-789a1859cfaa/orig\" alt=\"YOUNG && YANDEX\" width=\"50\" style=\"float: left;  margin-right: 10px;\"/>\n",
    "</p>\n",
    "\n",
    "# Тренировки по алгоритмам 6.0\n",
    "## Занятие 1. Задача А: Плот\n",
    "\n",
    "Кому интересно самостоятельно посмотреть [первую лекцию](https://www.youtube.com/live/c67zB3FWLOs) и в целом более детально познакомиться с [этими тренировками](https://yandex.ru/yaintern/training/algorithm-training), то ссылки оставлены специально для вас ❤️"
   ]
  },
  {
   "attachments": {
    "image.png": {
     "image/png": "[encoded data removed]"
    }
   },
   "cell_type": "markdown",
   "id": "424a324f",
   "metadata": {},
   "source": [
    "## Описание задачи\n",
    "\n",
    "Посередине озера плавает плот, имеющий форму прямоугольника. Стороны плота направлены вдоль параллелей и меридианов. Вводится система координат, в которой ось OX направлена на восток, а ось ОY – на север. Пусть юго-западный угол плота имеет координаты `(x1, y1)`, а северо-восточный угол — координаты `(x2, y2)`. Пловец находится в точке с координатами `(x, y)`.\n",
    "\n",
    "Пловец находится в точке с координатами `(x, y)`. **Определить, к какой стороне плота** (северной, южной, западной или восточной) **или к какому углу плота** (северо-западному, северо-восточному, юго-западному, юго-восточному) **пловцу нужно плыть, чтобы как можно скорее добраться до плота.**\n",
    "\n",
    "\n",
    "<p align=\"left\">\n",
    "\n",
    "| Параметр            | Значение                                      |\n",
    "|---------------------|-----------------------------------------------|\n",
    "| Ограничение времени | 1 секунда                                     |\n",
    "| Ограничение памяти  | 256Mb                                         |\n",
    "| Ввод                | стандартный ввод или input.txt                |\n",
    "| Вывод               | стандартный вывод или output.txt              |\n",
    "\n",
    "</p>\n",
    "\n",
    "\n",
    "**Задача**: Определите, к какой стороне или углу плота пловцу нужно плыть, чтобы как можно быстрее добраться до плота. Необходимо вывести одно из следующих значений:\n",
    "- Север — `\"N\"`\n",
    "- Юг — `\"S\"`\n",
    "- Запад — `\"W\"`\n",
    "- Восток — `\"E\"`\n",
    "- Северо-западный угол — `\"NW\"`\n",
    "- Северо-восточный угол — `\"NE\"`\n",
    "- Юго-западный угол — `\"SW\"`\n",
    "- Юго-восточный угол — `\"SE\"`\n",
    "\n",
    "![image.png](attachment:image.png)\n",
    "\n",
    "\n",
    "\n",
    "### Входные данные\n",
    "\n",
    "Программа получает на вход шесть целых чисел:\n",
    "\n",
    "- `x1, y1` — координаты юго-западного угла плота,\n",
    "- `x2, y2` — координаты северо-восточного угла плота,\n",
    "- `x, y` — координаты пловца.\n",
    "\n",
    "Все числа по модулю не превосходят 100. Гарантируется, что `x1 < x2` и `y1 < y2`, и что пловец находится вне плота (координаты пловца не совпадают с координатами углов плота).\n",
    "\n",
    "### Выходные данные\n",
    "\n",
    "Программа должна вывести один из указанных выше символов, обозначающих сторону или угол, к которому пловцу следует плыть.\n"
   ]
  },
  {
   "cell_type": "code",
   "execution_count": 1,
   "id": "3a532b96",
   "metadata": {},
   "outputs": [],
   "source": [
    "def solution(x1, y1, x2, y2, x, y):\n",
    "    res = \"\"\n",
    "    \n",
    "    # Рассмотрим y\n",
    "    if y < y1:\n",
    "        res += \"S\"  # Южная сторона\n",
    "    elif y > y2:\n",
    "        res += \"N\"  # Северная сторона\n",
    "\n",
    "    # Рассмотрим x\n",
    "    if x < x1:\n",
    "        res += \"W\"  # Западная сторона\n",
    "    elif x > x2:\n",
    "        res += \"E\"  # Восточная сторона\n",
    "\n",
    "    return res"
   ]
  },
  {
   "cell_type": "markdown",
   "id": "ef74d615",
   "metadata": {},
   "source": [
    "## Пример\n",
    "\n",
    "Теперь мы можем ввести свои данные для тестирования.\n"
   ]
  },
  {
   "cell_type": "code",
   "execution_count": 2,
   "id": "69b35d9b",
   "metadata": {},
   "outputs": [
    {
     "name": "stdout",
     "output_type": "stream",
     "text": [
      "Введите x1: -1\n",
      "Введите y1: -2\n",
      "Введите x2: 5\n",
      "Введите y2: 3\n",
      "Введите x: -4\n",
      "Введите y: 6\n",
      "Ответ: NW\n"
     ]
    }
   ],
   "source": [
    "# Ввод данных для теста\n",
    "x1 = int(input(\"Введите x1: \"))\n",
    "y1 = int(input(\"Введите y1: \"))\n",
    "x2 = int(input(\"Введите x2: \"))\n",
    "y2 = int(input(\"Введите y2: \"))\n",
    "x = int(input(\"Введите x: \"))\n",
    "y = int(input(\"Введите y: \"))\n",
    "\n",
    "# Вызов функции и вывод результата\n",
    "print(\"Ответ:\", solution(x1, y1, x2, y2, x, y))"
   ]
  },
  {
   "cell_type": "markdown",
   "id": "abb4a430",
   "metadata": {},
   "source": [
    "## Пояснение к решению\n",
    "\n",
    "Функция сначала проверяет координаты пловца относительно координат углов плота и определяет, куда именно нужно плыть (в сторону или угол). Если пловец находится за пределами плота по оси `y`, он будет направлен на север или юг. Аналогично, если пловец находится за пределами по оси `x`, он будет направлен на запад или восток.\n",
    "\n",
    "## Пример работы программы\n",
    "\n",
    "#### Ввод: \n",
    "-1 -2 5 3 -4 6\n",
    "\n",
    "#### Вывод:\n",
    "NW"
   ]
  },
  {
   "cell_type": "code",
   "execution_count": null,
   "id": "51a8c88b",
   "metadata": {},
   "outputs": [],
   "source": []
  }
 ],
 "metadata": {
  "kernelspec": {
   "display_name": "Python 3 (ipykernel)",
   "language": "python",
   "name": "python3"
  },
  "language_info": {
   "codemirror_mode": {
    "name": "ipython",
    "version": 3
   },
   "file_extension": ".py",
   "mimetype": "text/x-python",
   "name": "python",
   "nbconvert_exporter": "python",
   "pygments_lexer": "ipython3",
   "version": "3.11.5"
  }
 },
 "nbformat": 4,
 "nbformat_minor": 5
}
